{
 "cells": [
  {
   "cell_type": "code",
   "execution_count": 31,
   "metadata": {
    "collapsed": false
   },
   "outputs": [],
   "source": [
    "import pandas as pd\n",
    "import networkx as nx\n",
    "query_network = pd.read_csv('c:\\\\Users\\\\Alexander\\\\Downloads\\\\suspicious_edges.csv')\n",
    "given_network = pd.read_csv('c:\\\\Users\\Alexander\\\\Downloads\\\\social_network.csv')\n",
    "ans = pd.read_csv('c:\\\\Users\\\\Alexander\\\\Downloads\\\\ans.csv')"
   ]
  },
  {
   "cell_type": "markdown",
   "metadata": {},
   "source": [
    "Фиксим баг с именем `'j '`"
   ]
  },
  {
   "cell_type": "code",
   "execution_count": 32,
   "metadata": {
    "collapsed": false
   },
   "outputs": [],
   "source": [
    "given_network.columns = [u'i', u'j']\n",
    "query_network.columns = [u'id', u'i', u'j']"
   ]
  },
  {
   "cell_type": "markdown",
   "metadata": {},
   "source": [
    "Задел на будущее, опробуем SSVM"
   ]
  },
  {
   "cell_type": "code",
   "execution_count": 33,
   "metadata": {
    "collapsed": false
   },
   "outputs": [
    {
     "name": "stdout",
     "output_type": "stream",
     "text": [
      "Populating the interactive namespace from numpy and matplotlib\n"
     ]
    }
   ],
   "source": [
    "import numpy as np\n",
    "%pylab inline"
   ]
  },
  {
   "cell_type": "markdown",
   "metadata": {},
   "source": [
    "Найдём петли в графе"
   ]
  },
  {
   "cell_type": "code",
   "execution_count": 34,
   "metadata": {
    "collapsed": false
   },
   "outputs": [
    {
     "data": {
      "text/plain": [
       "[(1075, 1075),\n",
       " (1107, 1107),\n",
       " (1355, 1355),\n",
       " (1652, 1652),\n",
       " (2023, 2023),\n",
       " (2346, 2346),\n",
       " (2423, 2423),\n",
       " (3159, 3159),\n",
       " (3388, 3388),\n",
       " (4364, 4364),\n",
       " (6647, 6647),\n",
       " (7973, 7973),\n",
       " (7986, 7986),\n",
       " (8789, 8789),\n",
       " (9524, 9524)]"
      ]
     },
     "execution_count": 34,
     "metadata": {},
     "output_type": "execute_result"
    }
   ],
   "source": [
    "[(i, j) for _, (i, j) in given_network.iterrows() if i == j]"
   ]
  },
  {
   "cell_type": "code",
   "execution_count": 35,
   "metadata": {
    "collapsed": false
   },
   "outputs": [
    {
     "data": {
      "text/plain": [
       "[(2881, 2881),\n",
       " (2183, 2183),\n",
       " (1249, 1249),\n",
       " (1234, 1234),\n",
       " (599, 599),\n",
       " (8196, 8196),\n",
       " (1036, 1036),\n",
       " (3775, 3775),\n",
       " (4735, 4735),\n",
       " (597, 597),\n",
       " (282, 282),\n",
       " (2634, 2634),\n",
       " (62, 62),\n",
       " (3920, 3920),\n",
       " (6980, 6980),\n",
       " (940, 940)]"
      ]
     },
     "execution_count": 35,
     "metadata": {},
     "output_type": "execute_result"
    }
   ],
   "source": [
    "[(i, j) for _, (_, i, j) in query_network.iterrows() if i == j]"
   ]
  },
  {
   "cell_type": "markdown",
   "metadata": {},
   "source": [
    "Петель мало, так что ими можно пренебречь. Удалим их из выборки."
   ]
  },
  {
   "cell_type": "code",
   "execution_count": 36,
   "metadata": {
    "collapsed": true
   },
   "outputs": [],
   "source": [
    "given_excluded = given_network[given_network.i == given_network.j]\n",
    "given_network = given_network[given_network.i != given_network.j]\n",
    "query_excluded = query_network[query_network.i == query_network.j]\n",
    "query_network = query_network[query_network.i != query_network.j]"
   ]
  },
  {
   "cell_type": "code",
   "execution_count": 37,
   "metadata": {
    "collapsed": false
   },
   "outputs": [],
   "source": [
    "edges = [(i, j) for _, (i, j) in given_network.iterrows()]\n",
    "query_edges = [(i, j) for _, (_, i, j) in query_network.iterrows()]"
   ]
  },
  {
   "cell_type": "code",
   "execution_count": 38,
   "metadata": {
    "collapsed": false
   },
   "outputs": [],
   "source": [
    "nodes = pd.Series(given_network[['i', 'j']].values.ravel()).unique()\n",
    "query_nodes = pd.Series(query_network[['i', 'j']].values.ravel()).unique()"
   ]
  },
  {
   "cell_type": "code",
   "execution_count": 39,
   "metadata": {
    "collapsed": false
   },
   "outputs": [],
   "source": [
    "G = nx.Graph()\n",
    "G.add_edges_from(edges)\n",
    "G.add_nodes_from(query_nodes)"
   ]
  },
  {
   "cell_type": "markdown",
   "metadata": {},
   "source": [
    "Для оценки вероятности используем  Resource allocation index"
   ]
  },
  {
   "cell_type": "code",
   "execution_count": 40,
   "metadata": {
    "collapsed": true
   },
   "outputs": [],
   "source": [
    "aa_idxs = nx.resource_allocation_index(G, query_edges)"
   ]
  },
  {
   "cell_type": "code",
   "execution_count": 41,
   "metadata": {
    "collapsed": false
   },
   "outputs": [],
   "source": [
    "probs = array([prob for (_, _, prob) in aa_idxs])\n",
    "probs /= probs.max()"
   ]
  },
  {
   "cell_type": "code",
   "execution_count": 42,
   "metadata": {
    "collapsed": true
   },
   "outputs": [],
   "source": [
    "query_excluded['prob'] = 0\n",
    "query_network['prob'] = probs"
   ]
  },
  {
   "cell_type": "code",
   "execution_count": 43,
   "metadata": {
    "collapsed": false
   },
   "outputs": [],
   "source": [
    "response_total = pd.concat([query_excluded, query_network])[['id', 'prob']].\\\n",
    "                                                                 sort_index()"
   ]
  },
  {
   "cell_type": "code",
   "execution_count": 44,
   "metadata": {
    "collapsed": false
   },
   "outputs": [],
   "source": [
    "with open('c:\\\\Users\\\\Alexander\\\\Downloads\\\\rai.csv', 'w') as fo:\n",
    "    response_total.to_csv(fo, index=False)"
   ]
  }
 ],
 "metadata": {
  "kernelspec": {
   "display_name": "Python 3",
   "language": "python",
   "name": "python3"
  },
  "language_info": {
   "codemirror_mode": {
    "name": "ipython",
    "version": 3
   },
   "file_extension": ".py",
   "mimetype": "text/x-python",
   "name": "python",
   "nbconvert_exporter": "python",
   "pygments_lexer": "ipython3",
   "version": "3.5.0"
  }
 },
 "nbformat": 4,
 "nbformat_minor": 0
}
